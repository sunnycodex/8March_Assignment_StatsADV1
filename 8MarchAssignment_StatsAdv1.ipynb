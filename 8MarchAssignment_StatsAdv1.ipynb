{
 "cells": [
  {
   "cell_type": "markdown",
   "id": "c074ca9d-ff5f-4357-b8c3-96e7430b0f78",
   "metadata": {},
   "source": [
    "#1\n",
    "A probability density function used to describe the likelihood or probability distribution of continuous random variables. In simple terms, a PDF provides a way to understand the likelihood of different outcomes occurring within a continuous range of values."
   ]
  },
  {
   "cell_type": "markdown",
   "id": "495da763-95cd-46f1-af33-ee82ae854f6b",
   "metadata": {},
   "source": [
    "#2\n",
    "\n",
    "Types of probabilty distrubution function:\n",
    "\n",
    "1)Normal Distribution\n",
    "\n",
    "2)Bernoulli Distribution\n",
    "\n",
    "3)Binomial Distribution\n",
    "\n",
    "4)Poisson Distribution\n",
    "\n",
    "5)Log normal Distribution\n",
    "\n",
    "6)Uniform distribution"
   ]
  },
  {
   "cell_type": "markdown",
   "id": "a08c5ca9-bd2d-4d05-a6ad-70917ad1f7ee",
   "metadata": {},
   "source": [
    "#4\n",
    "\u000eEvery outcome is binary\n",
    "\n",
    "\u000eNean is np , whre n is the independent experiment\n",
    "\n",
    "\u000eVarience is npq\n",
    "\n",
    "Example of binomial experiment\n",
    "1) Tossing a coin 8n time\n",
    "2) Shoots an arrow at a target she either hits or misses each time\n"
   ]
  },
  {
   "cell_type": "code",
   "execution_count": 9,
   "id": "e767e50f-a142-44dc-80e8-57f83913e2f2",
   "metadata": {},
   "outputs": [
    {
     "data": {
      "image/png": "[encoded data removed]",
      "text/plain": [
       "<Figure size 640x480 with 1 Axes>"
      ]
     },
     "metadata": {},
     "output_type": "display_data"
    }
   ],
   "source": [
    "#5\n",
    "import matplotlib.pyplot as plt\n",
    "import numpy as np\n",
    "\n",
    "sample=np.random.binomial(1000,.4)\n",
    "\n",
    "plt.hist(sample)\n",
    "plt.show()"
   ]
  },
  {
   "cell_type": "markdown",
   "id": "37005431-cda4-403b-b5ee-d62b95dd777b",
   "metadata": {},
   "source": [
    "#7\n",
    "\n",
    "Bionomial distrubution has fixed number of trials.(fllipng a coin three times)\n",
    "while in a Poisson distribution, there could be any number of events that occur during a certain time interval.(number of people entering a bank of specific time intervel)"
   ]
  },
  {
   "cell_type": "markdown",
   "id": "476260bf-f8a7-4b05-aee7-469ecdfe2e04",
   "metadata": {},
   "source": [
    "#9\n",
    "\n",
    "In a Binomial distribution, the mean is calculated as the product of the number of trials `n` and the probability of success `p` on a given trial. The variance is calculated as the product of the mean and the probability of failure `q` (where `q = 1 - p`). So, for a Binomial distribution, the mean is `np` and the variance is `npq`.\n",
    "\n",
    "In a Poisson distribution, the mean and variance are equal to each other and are both equal to the parameter λ (lambda), which represents the average rate of value or the expected number of occurrences in a given interval. So, for a Poisson distribution, both the mean and variance are equal to λ.\n",
    "\n"
   ]
  },
  {
   "cell_type": "markdown",
   "id": "29552519-3d91-4b1e-afe1-e54aeb65938b",
   "metadata": {},
   "source": [
    "#10\n",
    "\n",
    "In a normal distribution, the least frequent data appears at the tails of the distribution, far away from the mean."
   ]
  },
  {
   "cell_type": "code",
   "execution_count": null,
   "id": "f9cbf302-f79e-42c5-9b85-e4065964a191",
   "metadata": {},
   "outputs": [],
   "source": []
  }
 ],
 "metadata": {
  "kernelspec": {
   "display_name": "Python 3 (ipykernel)",
   "language": "python",
   "name": "python3"
  },
  "language_info": {
   "codemirror_mode": {
    "name": "ipython",
    "version": 3
   },
   "file_extension": ".py",
   "mimetype": "text/x-python",
   "name": "python",
   "nbconvert_exporter": "python",
   "pygments_lexer": "ipython3",
   "version": "3.10.8"
  }
 },
 "nbformat": 4,
 "nbformat_minor": 5
}
